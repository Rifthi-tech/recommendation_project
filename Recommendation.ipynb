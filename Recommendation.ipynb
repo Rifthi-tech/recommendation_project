{
  "nbformat": 4,
  "nbformat_minor": 0,
  "metadata": {
    "colab": {
      "provenance": [],
      "toc_visible": true,
      "collapsed_sections": [
        "QNg5kHPG-mK8",
        "1M540epC-g6z",
        "wqQiBTBw_G-5",
        "kO793eK7CPpH",
        "irVcWtXcDHDh",
        "cyKZU0QaD_XD"
      ],
      "gpuType": "T4",
      "authorship_tag": "ABX9TyOS+0hoKvLfEfu1UmgpAyS9",
      "include_colab_link": true
    },
    "kernelspec": {
      "name": "python3",
      "display_name": "Python 3"
    },
    "language_info": {
      "name": "python"
    },
    "accelerator": "GPU"
  },
  "cells": [
    {
      "cell_type": "markdown",
      "metadata": {
        "id": "view-in-github",
        "colab_type": "text"
      },
      "source": [
        "<a href=\"https://colab.research.google.com/github/Rifthi-tech/recommendation_project/blob/main/Recommendation.ipynb\" target=\"_parent\"><img src=\"https://colab.research.google.com/assets/colab-badge.svg\" alt=\"Open In Colab\"/></a>"
      ]
    },
    {
      "cell_type": "markdown",
      "source": [
        "# 1. Setting Up the Environment"
      ],
      "metadata": {
        "id": "QNg5kHPG-mK8"
      }
    },
    {
      "cell_type": "code",
      "source": [
        "!pip install pymongo\n",
        "# Core data processing\n",
        "import pandas as pd\n",
        "import numpy as np\n",
        "\n",
        "# Machine learning\n",
        "from sklearn.model_selection import train_test_split\n",
        "from sklearn.metrics.pairwise import cosine_similarity\n",
        "from sklearn.feature_extraction.text import TfidfVectorizer\n",
        "from sklearn.preprocessing import MinMaxScaler\n",
        "\n",
        "# Database\n",
        "from pymongo import MongoClient\n",
        "import pymongo\n",
        "\n",
        "# Utilities\n",
        "import json\n",
        "from datetime import datetime\n",
        "import pickle"
      ],
      "metadata": {
        "colab": {
          "base_uri": "https://localhost:8080/"
        },
        "id": "YJ9ZV7_R-sYM",
        "outputId": "f41d96dc-0ebc-4481-b1ae-b2a1783a617e"
      },
      "execution_count": 29,
      "outputs": [
        {
          "output_type": "stream",
          "name": "stdout",
          "text": [
            "Requirement already satisfied: pymongo in /usr/local/lib/python3.11/dist-packages (4.12.1)\n",
            "Requirement already satisfied: dnspython<3.0.0,>=1.16.0 in /usr/local/lib/python3.11/dist-packages (from pymongo) (2.7.0)\n"
          ]
        }
      ]
    },
    {
      "cell_type": "markdown",
      "source": [
        "# 2. Import data"
      ],
      "metadata": {
        "id": "1M540epC-g6z"
      }
    },
    {
      "cell_type": "code",
      "source": [
        "df = pd.read_csv(\"/content/sample.csv/sample.csv\")  # Replace with your actual file path\n",
        "print(df.head())"
      ],
      "metadata": {
        "colab": {
          "base_uri": "https://localhost:8080/"
        },
        "id": "f3enqo9M-EnS",
        "outputId": "247f5a2a-659b-4067-e8e1-b79376743438"
      },
      "execution_count": 39,
      "outputs": [
        {
          "output_type": "stream",
          "name": "stdout",
          "text": [
            "                            uniq_id  \\\n",
            "0  c2d766ca982eca8304150849735ffef9   \n",
            "1  7f7036a6d550aaa89d34c77bd39a5e48   \n",
            "2  f449ec65dcbc041b6ae5e6a32717d01b   \n",
            "3  0973b37acd0c664e3de26e97e5571454   \n",
            "4  bc940ea42ee6bef5ac7cea3fb5cfbee7   \n",
            "\n",
            "                                         product_url  \\\n",
            "0  http://www.flipkart.com/alisha-solid-women-s-c...   \n",
            "1  http://www.flipkart.com/fabhomedecor-fabric-do...   \n",
            "2  http://www.flipkart.com/aw-bellies/p/itmeh4grg...   \n",
            "3  http://www.flipkart.com/alisha-solid-women-s-c...   \n",
            "4  http://www.flipkart.com/sicons-all-purpose-arn...   \n",
            "\n",
            "                            product_name  \\\n",
            "0    Alisha Solid Women's Cycling Shorts   \n",
            "1    FabHomeDecor Fabric Double Sofa Bed   \n",
            "2                             AW Bellies   \n",
            "3                            product_url   \n",
            "4  Sicons All Purpose Arnica Dog Shampoo   \n",
            "\n",
            "                               product_category_tree  Unnamed: 4  \\\n",
            "0  [\"Clothing >> Women's Clothing >> Lingerie, Sl...         NaN   \n",
            "1  [\"Furniture >> Living Room Furniture >> Sofa B...         NaN   \n",
            "2  [\"Footwear >> Women's Footwear >> Ballerinas >...         NaN   \n",
            "3  [\"Clothing >> Women's Clothing >> Lingerie, Sl...         NaN   \n",
            "4  [\"Pet Supplies >> Grooming >> Skin & Coat Care...         NaN   \n",
            "\n",
            "   retail_price                                              image  \\\n",
            "0         999.0  [\"http://img5a.flixcart.com/image/short/u/4/a/...   \n",
            "1       32157.0  [\"http://img6a.flixcart.com/image/sofa-bed/j/f...   \n",
            "2         999.0  [\"http://img5a.flixcart.com/image/shoe/7/z/z/r...   \n",
            "3         699.0  [\"http://img5a.flixcart.com/image/short/6/2/h/...   \n",
            "4         220.0  [\"http://img5a.flixcart.com/image/pet-shampoo/...   \n",
            "\n",
            "                                         description       product_rating  \\\n",
            "0  Key Features of Alisha Solid Women's Cycling S...  No rating available   \n",
            "1  FabHomeDecor Fabric Double Sofa Bed (Finish Co...  No rating available   \n",
            "2  Key Features of AW Bellies Sandals Wedges Heel...  No rating available   \n",
            "3  Key Features of Alisha Solid Women's Cycling S...  No rating available   \n",
            "4  Specifications of Sicons All Purpose Arnica Do...  No rating available   \n",
            "\n",
            "          brand                             product_specifications  \n",
            "0        Alisha  {\"product_specification\"=>[{\"key\"=>\"Number of ...  \n",
            "1  FabHomeDecor  {\"product_specification\"=>[{\"key\"=>\"Installati...  \n",
            "2            AW  {\"product_specification\"=>[{\"key\"=>\"Ideal For\"...  \n",
            "3        Alisha  {\"product_specification\"=>[{\"key\"=>\"Number of ...  \n",
            "4        Sicons  {\"product_specification\"=>[{\"key\"=>\"Pet Type\",...  \n"
          ]
        }
      ]
    },
    {
      "cell_type": "markdown",
      "source": [
        "# 3. Data Cleaning"
      ],
      "metadata": {
        "id": "wqQiBTBw_G-5"
      }
    },
    {
      "cell_type": "code",
      "source": [
        "import pandas as pd\n",
        "import numpy as np\n",
        "\n",
        "def generate_sample_data():\n",
        "    \"\"\"Generate sample product, rating, and purchase data\"\"\"\n",
        "    # Sample products\n",
        "    products = pd.DataFrame({\n",
        "        'product_id': [101, 102, 103, 104, 105],\n",
        "        'name': ['Laptop', 'Smartphone', 'Headphones', 'Keyboard', 'Mouse'],\n",
        "        'price': [999.99, 699.99, '149.99', 79.99, np.nan],  # Intentional issues\n",
        "        'category': ['Electronics', 'Electronics', None, 'Accessories', 'Accessories'],\n",
        "        'description': ['High-performance', '', 'Noise-cancelling', None, 'Wireless']\n",
        "    })\n",
        "\n",
        "    # Sample ratings (with some invalid entries)\n",
        "    ratings = pd.DataFrame({\n",
        "        'user_id': ['U1', 'U2', 'U3', 'U4', 'U5'],\n",
        "        'product_id': [101, 102, 999, 104, 105],\n",
        "        'rating': [5, 4, 0, 6, 3],  # 0 and 6 are invalid\n",
        "        'timestamp': ['2023-01-01', '2023-01-02', '2023-01-03', 'invalid_date', '2023-01-05']\n",
        "    })\n",
        "\n",
        "    # Sample purchases\n",
        "    purchases = pd.DataFrame({\n",
        "        'purchase_id': [1, 2, 3, 4, 5],\n",
        "        'user_id': ['U1', 'U2', 'U3', 'U4', 'U5'],\n",
        "        'product_id': [101, 102, 103, 104, 105],\n",
        "        'purchase_date': ['2023-01-01 10:00', '2023-01-02 11:30', 'invalid', '2023-01-04', None]\n",
        "    })\n",
        "\n",
        "    return products, ratings, purchases\n",
        "\n",
        "def clean_data(products, ratings, purchases):\n",
        "\n",
        "\n",
        "\n",
        "    products.fillna({\n",
        "        'description': 'No description',\n",
        "        'category': 'uncategorized'\n",
        "    }, inplace=True)\n",
        "\n",
        "    products['price'] = pd.to_numeric(products['price'], errors='coerce')\n",
        "    products['price'].fillna(products['price'].mean(), inplace=True)\n",
        "\n",
        "\n",
        "\n",
        "    ratings = ratings[ratings['rating'].between(1, 5)]  # Keep only valid ratings\n",
        "    ratings['timestamp'] = pd.to_datetime(ratings['timestamp'], errors='coerce')\n",
        "    ratings.dropna(subset=['timestamp'], inplace=True)\n",
        "\n",
        "\n",
        "\n",
        "    purchases['purchase_date'] = pd.to_datetime(purchases['purchase_date'], errors='coerce')\n",
        "    purchases.dropna(subset=['purchase_date'], inplace=True)\n",
        "\n",
        "    print(\"\\n Data cleaning completed successfully!\")\n",
        "    return products, ratings, purchases\n",
        "\n",
        "def main():\n",
        "\n",
        "\n",
        "    # 1. Generate sample data\n",
        "\n",
        "    products, ratings, purchases = generate_sample_data()\n",
        "\n",
        "    # 2. Clean data\n",
        "    clean_products, clean_ratings, clean_purchases = clean_data(products.copy(),\n",
        "                                                              ratings.copy(),\n",
        "                                                              purchases.copy())\n",
        "\n",
        "    # 3. Show ALL results\n",
        "\n",
        "\n",
        "    print(\"\\n CLEANED PRODUCTS (ALL):\")\n",
        "    print(clean_products.to_markdown(tablefmt=\"grid\", numalign=\"center\"))\n",
        "\n",
        "    print(\"\\n CLEANED RATINGS (ALL):\")\n",
        "    print(clean_ratings.to_markdown(tablefmt=\"grid\", numalign=\"center\"))\n",
        "\n",
        "    print(\"\\n CLEANED PURCHASES (ALL):\")\n",
        "    print(clean_purchases.to_markdown(tablefmt=\"grid\", numalign=\"center\"))\n",
        "\n",
        "\n",
        "    print(\" CLEANING STATS:\")\n",
        "    print(f\"Products: {len(clean_products)} records (Original: {len(products)}) - All kept with fixes\")\n",
        "    print(f\"Ratings: {len(clean_ratings)} valid records (Original: {len(ratings)}) - {len(ratings)-len(clean_ratings)} removed\")\n",
        "    print(f\"Purchases: {len(clean_purchases)} valid records (Original: {len(purchases)}) - {len(purchases)-len(clean_purchases)} removed\")\n",
        "    print(\"=\"*50)\n",
        "\n",
        "    print(\"\\n SUCCESS: All data has been cleaned and is now ready for analysis!\")\n",
        "\n",
        "if __name__ == \"__main__\":\n",
        "    main()"
      ],
      "metadata": {
        "colab": {
          "base_uri": "https://localhost:8080/"
        },
        "id": "kogu4xXR_KgW",
        "outputId": "9ff58d52-2618-404a-eb10-eb7bcfffef42"
      },
      "execution_count": 47,
      "outputs": [
        {
          "output_type": "stream",
          "name": "stdout",
          "text": [
            "\n",
            " Data cleaning completed successfully!\n",
            "\n",
            " CLEANED PRODUCTS (ALL):\n",
            "+----+--------------+------------+---------+---------------+------------------+\n",
            "|    |  product_id  | name       |  price  | category      | description      |\n",
            "+====+==============+============+=========+===============+==================+\n",
            "| 0  |     101      | Laptop     | 999.99  | Electronics   | High-performance |\n",
            "+----+--------------+------------+---------+---------------+------------------+\n",
            "| 1  |     102      | Smartphone | 699.99  | Electronics   |                  |\n",
            "+----+--------------+------------+---------+---------------+------------------+\n",
            "| 2  |     103      | Headphones | 149.99  | uncategorized | Noise-cancelling |\n",
            "+----+--------------+------------+---------+---------------+------------------+\n",
            "| 3  |     104      | Keyboard   |  79.99  | Accessories   | No description   |\n",
            "+----+--------------+------------+---------+---------------+------------------+\n",
            "| 4  |     105      | Mouse      | 482.49  | Accessories   | Wireless         |\n",
            "+----+--------------+------------+---------+---------------+------------------+\n",
            "\n",
            " CLEANED RATINGS (ALL):\n",
            "+----+-----------+--------------+----------+---------------------+\n",
            "|    | user_id   |  product_id  |  rating  | timestamp           |\n",
            "+====+===========+==============+==========+=====================+\n",
            "| 0  | U1        |     101      |    5     | 2023-01-01 00:00:00 |\n",
            "+----+-----------+--------------+----------+---------------------+\n",
            "| 1  | U2        |     102      |    4     | 2023-01-02 00:00:00 |\n",
            "+----+-----------+--------------+----------+---------------------+\n",
            "| 4  | U5        |     105      |    3     | 2023-01-05 00:00:00 |\n",
            "+----+-----------+--------------+----------+---------------------+\n",
            "\n",
            " CLEANED PURCHASES (ALL):\n",
            "+----+---------------+-----------+--------------+---------------------+\n",
            "|    |  purchase_id  | user_id   |  product_id  | purchase_date       |\n",
            "+====+===============+===========+==============+=====================+\n",
            "| 0  |       1       | U1        |     101      | 2023-01-01 10:00:00 |\n",
            "+----+---------------+-----------+--------------+---------------------+\n",
            "| 1  |       2       | U2        |     102      | 2023-01-02 11:30:00 |\n",
            "+----+---------------+-----------+--------------+---------------------+\n",
            " CLEANING STATS:\n",
            "Products: 5 records (Original: 5) - All kept with fixes\n",
            "Ratings: 3 valid records (Original: 5) - 2 removed\n",
            "Purchases: 2 valid records (Original: 5) - 3 removed\n",
            "==================================================\n",
            "\n",
            " SUCCESS: All data has been cleaned and is now ready for analysis!\n"
          ]
        },
        {
          "output_type": "stream",
          "name": "stderr",
          "text": [
            "<ipython-input-47-f45ce6aa2188>:43: FutureWarning: A value is trying to be set on a copy of a DataFrame or Series through chained assignment using an inplace method.\n",
            "The behavior will change in pandas 3.0. This inplace method will never work because the intermediate object on which we are setting values always behaves as a copy.\n",
            "\n",
            "For example, when doing 'df[col].method(value, inplace=True)', try using 'df.method({col: value}, inplace=True)' or df[col] = df[col].method(value) instead, to perform the operation inplace on the original object.\n",
            "\n",
            "\n",
            "  products['price'].fillna(products['price'].mean(), inplace=True)\n"
          ]
        }
      ]
    },
    {
      "cell_type": "markdown",
      "source": [
        "# 4.Feature Extraction"
      ],
      "metadata": {
        "id": "kO793eK7CPpH"
      }
    },
    {
      "cell_type": "code",
      "source": [
        "def display_all_features(product_features, user_features, tfidf):\n",
        "    \"\"\"Displays **all** extracted features\"\"\"\n",
        "\n",
        "    print(\" Full Feature Extraction Preview\")\n",
        "\n",
        "\n",
        "    # Show all product features\n",
        "    print(\"\\n Product TF-IDF Features (All):\")\n",
        "    feature_names = tfidf.get_feature_names_out()\n",
        "    print(f\"TF-IDF terms: {', '.join(feature_names)}\")\n",
        "\n",
        "    # Show all user features\n",
        "    print(\"\\n User Features (Complete dataset):\")\n",
        "    print(user_features.to_markdown(tablefmt=\"grid\", numalign=\"center\", stralign=\"center\"))\n",
        "\n",
        "# Example usage after feature extraction\n",
        "if product_features is not None:\n",
        "    display_all_features(product_features, user_features, tfidf)"
      ],
      "metadata": {
        "colab": {
          "base_uri": "https://localhost:8080/"
        },
        "id": "8zjiyLCJCU5N",
        "outputId": "44c206a5-aa63-43a8-9d7f-f344b01b98dd"
      },
      "execution_count": 50,
      "outputs": [
        {
          "output_type": "stream",
          "name": "stdout",
          "text": [
            " Full Feature Extraction Preview\n",
            "\n",
            " Product TF-IDF Features (All):\n",
            "TF-IDF terms: 4k, audio, bluetooth, computer, ergonomic, gaming, hd, headphones, keyboard, lights, mechanical, monitor, mouse, rgb, ultra, wireless\n",
            "\n",
            " User Features (Complete dataset):\n",
            "+----+-----------+--------------+\n",
            "|    |  user_id  |  avg_rating  |\n",
            "+====+===========+==============+\n",
            "| 0  |    U1     |     4.2      |\n",
            "+----+-----------+--------------+\n",
            "| 1  |    U2     |     3.8      |\n",
            "+----+-----------+--------------+\n",
            "| 2  |    U3     |     4.5      |\n",
            "+----+-----------+--------------+\n",
            "| 3  |    U4     |     3.2      |\n",
            "+----+-----------+--------------+\n",
            "| 4  |    U5     |      4       |\n",
            "+----+-----------+--------------+\n"
          ]
        }
      ]
    },
    {
      "cell_type": "markdown",
      "source": [
        "# 5. Model Training"
      ],
      "metadata": {
        "id": "irVcWtXcDHDh"
      }
    },
    {
      "cell_type": "code",
      "source": [
        "def display_all_model_outputs(results):\n",
        "    \"\"\"Displays **all** trained model outputs\"\"\"\n",
        "\n",
        "    print(\" Full Model Training Outputs\")\n",
        "\n",
        "\n",
        "    # User similarity matrix\n",
        "    print(\"\\n User Similarity Matrix (All users):\")\n",
        "    print(pd.DataFrame(results['user_similarity']).to_markdown(tablefmt=\"grid\", floatfmt=\".2f\"))\n",
        "\n",
        "    # Product similarity matrix\n",
        "    print(\"\\n Product Similarity Matrix (All products):\")\n",
        "    print(pd.DataFrame(results['product_similarity']).to_markdown(tablefmt=\"grid\", floatfmt=\".2f\"))\n",
        "\n",
        "    # Purchase matrix\n",
        "    print(\"\\n Purchase Matrix (Complete dataset):\")\n",
        "    print(results['purchase_matrix'].to_markdown(tablefmt=\"grid\"))\n",
        "\n",
        "    # Hybrid model weights\n",
        "    print(\"\\n Hybrid Model Weights:\")\n",
        "    print(pd.DataFrame.from_dict(results['hybrid_weights'], orient='index', columns=['Weight']).to_markdown(tablefmt=\"grid\"))\n",
        "\n",
        "# Example usage after model training\n",
        "if model_results is not None:\n",
        "    display_all_model_outputs(model_results)"
      ],
      "metadata": {
        "colab": {
          "base_uri": "https://localhost:8080/"
        },
        "id": "6fapTwe8DLSy",
        "outputId": "42953da6-040f-4ba9-e8ea-eab1ddda26d4"
      },
      "execution_count": 52,
      "outputs": [
        {
          "output_type": "stream",
          "name": "stdout",
          "text": [
            " Full Model Training Outputs\n",
            "\n",
            " User Similarity Matrix (All users):\n",
            "+----+------+------+------+------+\n",
            "|    |    0 |    1 |    2 |    3 |\n",
            "+====+======+======+======+======+\n",
            "|  0 | 1.00 | 0.00 | 0.00 | 0.00 |\n",
            "+----+------+------+------+------+\n",
            "|  1 | 0.00 | 1.00 | 0.00 | 0.00 |\n",
            "+----+------+------+------+------+\n",
            "|  2 | 0.00 | 0.00 | 1.00 | 0.00 |\n",
            "+----+------+------+------+------+\n",
            "|  3 | 0.00 | 0.00 | 0.00 | 1.00 |\n",
            "+----+------+------+------+------+\n",
            "\n",
            " Product Similarity Matrix (All products):\n",
            "+----+------+------+------+------+------+\n",
            "|    |    0 |    1 |    2 |    3 |    4 |\n",
            "+====+======+======+======+======+======+\n",
            "|  0 | 1.00 | 0.77 | 0.63 | 0.83 | 0.72 |\n",
            "+----+------+------+------+------+------+\n",
            "|  1 | 0.77 | 1.00 | 0.93 | 0.84 | 0.74 |\n",
            "+----+------+------+------+------+------+\n",
            "|  2 | 0.63 | 0.93 | 1.00 | 0.82 | 0.67 |\n",
            "+----+------+------+------+------+------+\n",
            "|  3 | 0.83 | 0.84 | 0.82 | 1.00 | 0.89 |\n",
            "+----+------+------+------+------+------+\n",
            "|  4 | 0.72 | 0.74 | 0.67 | 0.89 | 1.00 |\n",
            "+----+------+------+------+------+------+\n",
            "\n",
            " Purchase Matrix (Complete dataset):\n",
            "+-----------+-------+-------+-------+-------+\n",
            "| user_id   |   100 |   101 |   103 |   104 |\n",
            "+===========+=======+=======+=======+=======+\n",
            "| U1        |     2 |     0 |     0 |     0 |\n",
            "+-----------+-------+-------+-------+-------+\n",
            "| U2        |     2 |     2 |     0 |     0 |\n",
            "+-----------+-------+-------+-------+-------+\n",
            "| U3        |     0 |     0 |     2 |     0 |\n",
            "+-----------+-------+-------+-------+-------+\n",
            "| U5        |     0 |     0 |     0 |     2 |\n",
            "+-----------+-------+-------+-------+-------+\n",
            "\n",
            " Hybrid Model Weights:\n",
            "+---------------+----------+\n",
            "|               |   Weight |\n",
            "+===============+==========+\n",
            "| collaborative |      0.4 |\n",
            "+---------------+----------+\n",
            "| content       |      0.3 |\n",
            "+---------------+----------+\n",
            "| purchase      |      0.3 |\n",
            "+---------------+----------+\n"
          ]
        }
      ]
    },
    {
      "cell_type": "markdown",
      "source": [
        "# 6. Recommendation Functions"
      ],
      "metadata": {
        "id": "cyKZU0QaD_XD"
      }
    },
    {
      "cell_type": "code",
      "source": [
        "# Collaborative Recommendation Function (Show all results)\n",
        "def collaborative_recommendation(user_id, model_data):\n",
        "    try:\n",
        "        user_idx = np.where(model_data['user_ids'] == user_id)[0][0]\n",
        "        user_sim_scores = model_data['user_similarity'][user_idx]\n",
        "\n",
        "        # Get top similar users\n",
        "        similar_users = np.argsort(user_sim_scores)[-10:-1]\n",
        "\n",
        "        # Get products rated by similar users\n",
        "        similar_users_products = model_data['user_product_matrix'].iloc[similar_users]\n",
        "        recommended_products = similar_users_products.mean(axis=0).sort_values(ascending=False)\n",
        "\n",
        "        # Filter out products already purchased/rated\n",
        "        user_products = set(model_data['user_product_matrix'].loc[user_id]\n",
        "                            [model_data['user_product_matrix'].loc[user_id] > 0].index)\n",
        "        recommended_products = recommended_products[~recommended_products.index.isin(user_products)]\n",
        "\n",
        "        # Success message\n",
        "        print(\" Collaborative Recommendation completed successfully!\")\n",
        "        print(\"\\nAll recommended products:\", recommended_products.index.tolist())\n",
        "\n",
        "        return recommended_products.index.tolist()\n",
        "\n",
        "    except Exception as e:\n",
        "        print(\" Error in Collaborative Recommendation:\", e)\n",
        "        return []\n",
        "\n",
        "# Content-Based Recommendation Function (Show all results)\n",
        "def content_based_recommendation(product_id, model_data):\n",
        "    try:\n",
        "        product_idx = np.where(model_data['product_ids'] == product_id)[0][0]\n",
        "        sim_scores = list(enumerate(model_data['product_similarity'][product_idx]))\n",
        "        sim_scores = sorted(sim_scores, key=lambda x: x[1], reverse=True)\n",
        "        sim_scores = sim_scores[1:]  # Exclude self and get all results\n",
        "\n",
        "        similar_products = [model_data['product_ids'][i] for i, _ in sim_scores]\n",
        "\n",
        "        # Success message\n",
        "        print(\" Content-Based Recommendation completed successfully!\")\n",
        "        print(\"\\nAll similar products:\", similar_products)\n",
        "\n",
        "        return similar_products\n",
        "\n",
        "    except Exception as e:\n",
        "        print(\" Error in Content-Based Recommendation:\", e)\n",
        "        return []\n",
        "\n",
        "# Hybrid Recommendation Function (Show all results)\n",
        "def hybrid_recommendation(user_id, product_id, model_data):\n",
        "    try:\n",
        "        collab_rec = collaborative_recommendation(user_id, model_data)\n",
        "        content_rec = content_based_recommendation(product_id, model_data)\n",
        "\n",
        "        # Combine with weights\n",
        "        recommendations = {}\n",
        "        for product in collab_rec:\n",
        "            recommendations[product] = recommendations.get(product, 0) + model_data['hybrid_weights']['collaborative']\n",
        "\n",
        "        for product in content_rec:\n",
        "            recommendations[product] = recommendations.get(product, 0) + model_data['hybrid_weights']['content']\n",
        "\n",
        "        # Sort by combined score\n",
        "        sorted_recommendations = sorted(recommendations.items(), key=lambda x: x[1], reverse=True)\n",
        "\n",
        "        final_recommendations = [product for product, score in sorted_recommendations]\n",
        "\n",
        "        # Success message\n",
        "        print(\" Hybrid Recommendation completed successfully!\")\n",
        "        print(\"\\nAll recommended products:\", final_recommendations)\n",
        "\n",
        "        return final_recommendations\n",
        "\n",
        "    except Exception as e:\n",
        "        print(\" Error in Hybrid Recommendation:\", e)\n",
        "        return []\n",
        "\n",
        "# Testing the functions\n",
        "print(\"\\n--- Running Recommendation System ---\\n\")\n",
        "user_id = 3\n",
        "product_id = \"P3\"\n",
        "hybrid_recommendation(user_id, product_id, model_data)"
      ],
      "metadata": {
        "colab": {
          "base_uri": "https://localhost:8080/"
        },
        "id": "zapbEcvqED3e",
        "outputId": "13660e0b-a754-4d38-ca49-e26c3241024b"
      },
      "execution_count": 55,
      "outputs": [
        {
          "output_type": "stream",
          "name": "stdout",
          "text": [
            "\n",
            "--- Running Recommendation System ---\n",
            "\n",
            " Collaborative Recommendation completed successfully!\n",
            "\n",
            "All recommended products: ['P2', 'P4']\n",
            " Content-Based Recommendation completed successfully!\n",
            "\n",
            "All similar products: [np.str_('P4'), np.str_('P3'), np.str_('P1'), np.str_('P5')]\n",
            " Hybrid Recommendation completed successfully!\n",
            "\n",
            "All recommended products: ['P4', 'P2', np.str_('P3'), np.str_('P1'), np.str_('P5')]\n"
          ]
        },
        {
          "output_type": "execute_result",
          "data": {
            "text/plain": [
              "['P4', 'P2', np.str_('P3'), np.str_('P1'), np.str_('P5')]"
            ]
          },
          "metadata": {},
          "execution_count": 55
        }
      ]
    }
  ]
}